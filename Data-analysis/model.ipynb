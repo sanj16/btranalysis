{
 "cells": [
  {
   "cell_type": "code",
   "execution_count": 2,
   "id": "d67a9e47",
   "metadata": {},
   "outputs": [],
   "source": [
    "import matplotlib.pyplot as plt\n",
    "import pandas as pd\n",
    "import numpy as np"
   ]
  },
  {
   "cell_type": "code",
   "execution_count": 11,
   "id": "389d7465",
   "metadata": {},
   "outputs": [
    {
     "data": {
      "text/html": [
       "<div>\n",
       "<style scoped>\n",
       "    .dataframe tbody tr th:only-of-type {\n",
       "        vertical-align: middle;\n",
       "    }\n",
       "\n",
       "    .dataframe tbody tr th {\n",
       "        vertical-align: top;\n",
       "    }\n",
       "\n",
       "    .dataframe thead th {\n",
       "        text-align: right;\n",
       "    }\n",
       "</style>\n",
       "<table border=\"1\" class=\"dataframe\">\n",
       "  <thead>\n",
       "    <tr style=\"text-align: right;\">\n",
       "      <th></th>\n",
       "      <th>States/UTs</th>\n",
       "      <th>2003</th>\n",
       "      <th>2004</th>\n",
       "      <th>2005</th>\n",
       "      <th>2006</th>\n",
       "      <th>2007</th>\n",
       "      <th>2008</th>\n",
       "      <th>2009</th>\n",
       "      <th>2010</th>\n",
       "      <th>2011</th>\n",
       "      <th>2018</th>\n",
       "      <th>2019</th>\n",
       "      <th>2020</th>\n",
       "    </tr>\n",
       "  </thead>\n",
       "  <tbody>\n",
       "    <tr>\n",
       "      <th>0</th>\n",
       "      <td>Andhra Pradesh</td>\n",
       "      <td>34,826</td>\n",
       "      <td>38,940</td>\n",
       "      <td>37,131</td>\n",
       "      <td>43,559</td>\n",
       "      <td>44,325</td>\n",
       "      <td>42,657</td>\n",
       "      <td>43,600</td>\n",
       "      <td>44,599</td>\n",
       "      <td>44,165</td>\n",
       "      <td>46,705</td>\n",
       "      <td>43,562</td>\n",
       "      <td>38681.0</td>\n",
       "    </tr>\n",
       "    <tr>\n",
       "      <th>1</th>\n",
       "      <td>Arunachal Pradesh</td>\n",
       "      <td>245</td>\n",
       "      <td>241</td>\n",
       "      <td>231</td>\n",
       "      <td>250</td>\n",
       "      <td>240</td>\n",
       "      <td>280</td>\n",
       "      <td>306</td>\n",
       "      <td>293</td>\n",
       "      <td>263</td>\n",
       "      <td>277</td>\n",
       "      <td>237</td>\n",
       "      <td>134.0</td>\n",
       "    </tr>\n",
       "    <tr>\n",
       "      <th>2</th>\n",
       "      <td>Assam</td>\n",
       "      <td>3,262</td>\n",
       "      <td>3,688</td>\n",
       "      <td>4,258</td>\n",
       "      <td>4,694</td>\n",
       "      <td>4,403</td>\n",
       "      <td>4,683</td>\n",
       "      <td>4,869</td>\n",
       "      <td>5,828</td>\n",
       "      <td>6,569</td>\n",
       "      <td>8248</td>\n",
       "      <td>8350</td>\n",
       "      <td>6595.0</td>\n",
       "    </tr>\n",
       "    <tr>\n",
       "      <th>3</th>\n",
       "      <td>Bihar</td>\n",
       "      <td>6,141</td>\n",
       "      <td>4,027</td>\n",
       "      <td>3,768</td>\n",
       "      <td>5,594</td>\n",
       "      <td>7,774</td>\n",
       "      <td>8,991</td>\n",
       "      <td>10,065</td>\n",
       "      <td>11,033</td>\n",
       "      <td>10,673</td>\n",
       "      <td>9600</td>\n",
       "      <td>10007</td>\n",
       "      <td>8639.0</td>\n",
       "    </tr>\n",
       "    <tr>\n",
       "      <th>4</th>\n",
       "      <td>Chhattisgarh</td>\n",
       "      <td>10,521</td>\n",
       "      <td>10,600</td>\n",
       "      <td>11,164</td>\n",
       "      <td>11,934</td>\n",
       "      <td>12,296</td>\n",
       "      <td>12,945</td>\n",
       "      <td>12,888</td>\n",
       "      <td>13,664</td>\n",
       "      <td>14,108</td>\n",
       "      <td>13864</td>\n",
       "      <td>13899</td>\n",
       "      <td>11656.0</td>\n",
       "    </tr>\n",
       "  </tbody>\n",
       "</table>\n",
       "</div>"
      ],
      "text/plain": [
       "          States/UTs    2003    2004    2005    2006    2007    2008    2009  \\\n",
       "0     Andhra Pradesh  34,826  38,940  37,131  43,559  44,325  42,657  43,600   \n",
       "1  Arunachal Pradesh     245     241     231     250     240     280     306   \n",
       "2              Assam   3,262   3,688   4,258   4,694   4,403   4,683   4,869   \n",
       "3              Bihar   6,141   4,027   3,768   5,594   7,774   8,991  10,065   \n",
       "4       Chhattisgarh  10,521  10,600  11,164  11,934  12,296  12,945  12,888   \n",
       "\n",
       "     2010    2011    2018    2019     2020  \n",
       "0  44,599  44,165  46,705  43,562  38681.0  \n",
       "1     293     263     277     237    134.0  \n",
       "2   5,828   6,569    8248    8350   6595.0  \n",
       "3  11,033  10,673    9600   10007   8639.0  \n",
       "4  13,664  14,108   13864   13899  11656.0  "
      ]
     },
     "execution_count": 11,
     "metadata": {},
     "output_type": "execute_result"
    }
   ],
   "source": [
    "df= pd.read_csv('regression_data.csv')\n",
    "df.head()\n"
   ]
  },
  {
   "cell_type": "code",
   "execution_count": 14,
   "metadata": {},
   "outputs": [],
   "source": [
    "df_test=df[['2018','2019','2020']]\n",
    "df_train=df.loc[:, '2003':'2011']\n"
   ]
  },
  {
   "cell_type": "code",
   "execution_count": 39,
   "metadata": {},
   "outputs": [
    {
     "ename": "AttributeError",
     "evalue": "'str' object has no attribute 'transpose'",
     "output_type": "error",
     "traceback": [
      "\u001b[1;31m---------------------------------------------------------------------------\u001b[0m",
      "\u001b[1;31mAttributeError\u001b[0m                            Traceback (most recent call last)",
      "\u001b[1;32mc:\\Users\\pavan\\Downloads\\btranalysis\\btranalysis\\Data-analysis\\model.ipynb Cell 4\u001b[0m line \u001b[0;36m1\n\u001b[1;32m----> <a href='vscode-notebook-cell:/c%3A/Users/pavan/Downloads/btranalysis/btranalysis/Data-analysis/model.ipynb#W4sZmlsZQ%3D%3D?line=0'>1</a>\u001b[0m df_transposed \u001b[39m=\u001b[39m df_train\u001b[39m.\u001b[39;49mtranspose()\n\u001b[0;32m      <a href='vscode-notebook-cell:/c%3A/Users/pavan/Downloads/btranalysis/btranalysis/Data-analysis/model.ipynb#W4sZmlsZQ%3D%3D?line=2'>3</a>\u001b[0m df_train\u001b[39m=\u001b[39mdf_transposed\u001b[39m.\u001b[39miloc[:, \u001b[39m0\u001b[39m]\n\u001b[0;32m      <a href='vscode-notebook-cell:/c%3A/Users/pavan/Downloads/btranalysis/btranalysis/Data-analysis/model.ipynb#W4sZmlsZQ%3D%3D?line=3'>4</a>\u001b[0m df_train\n",
      "\u001b[1;31mAttributeError\u001b[0m: 'str' object has no attribute 'transpose'"
     ]
    }
   ],
   "source": [
    "df_transposed = df_train.transpose()\n",
    "\n",
    "df_train=df_transposed.iloc[:, 0]\n",
    "df_train"
   ]
  },
  {
   "cell_type": "code",
   "execution_count": null,
   "metadata": {},
   "outputs": [],
   "source": []
  },
  {
   "cell_type": "code",
   "execution_count": null,
   "metadata": {},
   "outputs": [],
   "source": []
  }
 ],
 "metadata": {
  "kernelspec": {
   "display_name": "Python 3 (ipykernel)",
   "language": "python",
   "name": "python3"
  },
  "language_info": {
   "codemirror_mode": {
    "name": "ipython",
    "version": 3
   },
   "file_extension": ".py",
   "mimetype": "text/x-python",
   "name": "python",
   "nbconvert_exporter": "python",
   "pygments_lexer": "ipython3",
   "version": "3.11.4"
  }
 },
 "nbformat": 4,
 "nbformat_minor": 5
}
